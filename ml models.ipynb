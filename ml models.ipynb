{
 "cells": [
  {
   "cell_type": "code",
   "execution_count": 37,
   "metadata": {},
   "outputs": [],
   "source": [
    "from sklearn.model_selection import cross_val_score, StratifiedKFold\n",
    "from sklearn.tree import DecisionTreeClassifier\n",
    "from sklearn.metrics import make_scorer, f1_score"
   ]
  },
  {
   "cell_type": "code",
   "execution_count": 38,
   "metadata": {},
   "outputs": [
    {
     "name": "stdout",
     "output_type": "stream",
     "text": [
      "Mean Accuracy: 0.9751058685055588\n",
      "Standard Deviation: 0.0004471347310526442\n"
     ]
    }
   ],
   "source": [
    "classifier = DecisionTreeClassifier()\n",
    "\n",
    "# Perform cross-validation\n",
    "cv = StratifiedKFold(n_splits=5, shuffle=True, random_state=42)\n",
    "scores = cross_val_score(classifier, X_resampled, y_resampled, cv=cv, scoring='accuracy')\n",
    "\n",
    "# Print the mean accuracy and standard deviation of the accuracy scores\n",
    "print(\"Mean Accuracy:\", scores.mean())\n",
    "print(\"Standard Deviation:\", scores.std())"
   ]
  },
  {
   "cell_type": "code",
   "execution_count": 39,
   "metadata": {},
   "outputs": [
    {
     "name": "stdout",
     "output_type": "stream",
     "text": [
      "[0.97558308 0.97524404 0.97454678 0.97478986 0.97436127]\n",
      "Mean Accuracy: 0.9749050062049818\n",
      "Standard Deviation: 0.00044987912369069146\n"
     ]
    }
   ],
   "source": [
    "classifier = DecisionTreeClassifier()\n",
    "\n",
    "# Perform cross-validation\n",
    "cv = StratifiedKFold(n_splits=5, shuffle=True, random_state=42)\n",
    "scores = cross_val_score(classifier, X_resampled, y_resampled, cv=cv, scoring='accuracy')\n",
    "print(scores)\n",
    "# Print the mean accuracy and standard deviation of the accuracy scores\n",
    "print(\"Mean Accuracy:\", scores.mean())\n",
    "print(\"Standard Deviation:\", scores.std())"
   ]
  },
  {
   "cell_type": "code",
   "execution_count": 40,
   "metadata": {},
   "outputs": [
    {
     "name": "stdout",
     "output_type": "stream",
     "text": [
      "Mean F1 Score: 0.9755292832263491\n",
      "Standard Deviation: 0.000436362899912914\n"
     ]
    }
   ],
   "source": [
    "scorer = make_scorer(f1_score, average='binary')\n",
    "\n",
    "cv = StratifiedKFold(n_splits=5, shuffle=True, random_state=42)\n",
    "scores = cross_val_score(classifier, X_resampled, y_resampled, cv=cv, scoring=scorer)\n",
    "\n",
    "print(\"Mean F1 Score:\", scores.mean())\n",
    "print(\"Standard Deviation:\", scores.std())"
   ]
  },
  {
   "cell_type": "code",
   "execution_count": 41,
   "metadata": {},
   "outputs": [],
   "source": [
    "from sklearn.neighbors import KNeighborsClassifier"
   ]
  },
  {
   "cell_type": "code",
   "execution_count": 42,
   "metadata": {},
   "outputs": [
    {
     "name": "stdout",
     "output_type": "stream",
     "text": [
      "Mean Accuracy: 0.5060284277727314\n",
      "Standard Deviation: 0.00026880940504303043\n"
     ]
    }
   ],
   "source": [
    "classifier = KNeighborsClassifier()\n",
    "\n",
    "# Perform cross-validation\n",
    "cv = StratifiedKFold(n_splits=5, shuffle=True, random_state=42)\n",
    "scores = cross_val_score(classifier, X_resampled, y_resampled, cv=cv, scoring='accuracy')\n",
    "\n",
    "# Print the mean accuracy and standard deviation of the accuracy scores\n",
    "print(\"Mean Accuracy:\", scores.mean())\n",
    "print(\"Standard Deviation:\", scores.std())"
   ]
  },
  {
   "cell_type": "code",
   "execution_count": 43,
   "metadata": {},
   "outputs": [
    {
     "name": "stdout",
     "output_type": "stream",
     "text": [
      "[0.50562926 0.50594911 0.50597469 0.50645446 0.50613462]\n",
      "Mean Accuracy: 0.5060284277727314\n",
      "Standard Deviation: 0.00026880940504303043\n"
     ]
    }
   ],
   "source": [
    "classifier = KNeighborsClassifier()\n",
    "\n",
    "# Perform cross-validation\n",
    "cv = StratifiedKFold(n_splits=5, shuffle=True, random_state=42)\n",
    "scores = cross_val_score(classifier, X_resampled, y_resampled, cv=cv, scoring='accuracy')\n",
    "print(scores)\n",
    "# Print the mean accuracy and standard deviation of the accuracy scores\n",
    "print(\"Mean Accuracy:\", scores.mean())\n",
    "print(\"Standard Deviation:\", scores.std())"
   ]
  },
  {
   "cell_type": "code",
   "execution_count": 53,
   "metadata": {},
   "outputs": [
    {
     "name": "stdout",
     "output_type": "stream",
     "text": [
      "[0.02755653 0.0281123  0.02840716 0.03031446 0.03002739]\n",
      "Mean F1 Score: 0.02888356653219703\n",
      "Standard Deviation: 0.001089827604906192\n"
     ]
    }
   ],
   "source": [
    "classifier = KNeighborsClassifier()\n",
    "\n",
    "# Define F1 score as the scoring metric\n",
    "scorer = make_scorer(f1_score, average='binary')\n",
    "\n",
    "# Perform cross-validation\n",
    "cv = StratifiedKFold(n_splits=5, shuffle=True, random_state=42)\n",
    "scores = cross_val_score(classifier, X_resampled, y_resampled, cv=cv, scoring=scorer)\n",
    "\n",
    "# Print the mean F1 score and standard deviation of the F1 scores\n",
    "print(scores)\n",
    "print(\"Mean F1 Score:\", scores.mean())\n",
    "print(\"Standard Deviation:\", scores.std())"
   ]
  },
  {
   "cell_type": "code",
   "execution_count": 44,
   "metadata": {},
   "outputs": [],
   "source": [
    "from sklearn.model_selection import cross_val_score, StratifiedKFold\n",
    "from sklearn.ensemble import RandomForestClassifier"
   ]
  },
  {
   "cell_type": "code",
   "execution_count": 45,
   "metadata": {},
   "outputs": [
    {
     "name": "stdout",
     "output_type": "stream",
     "text": [
      "[0.98947072 0.98943234 0.98913808 0.98938756 0.98960506]\n",
      "Mean Accuracy: 0.989406752555557\n",
      "Standard Deviation: 0.00015272362097558213\n"
     ]
    }
   ],
   "source": [
    "classifier = RandomForestClassifier()\n",
    "\n",
    "cv = StratifiedKFold(n_splits=5, shuffle=True, random_state=42)\n",
    "scores = cross_val_score(classifier, X_resampled, y_resampled, cv=cv, scoring='accuracy')\n",
    "\n",
    "print(scores)\n",
    "print(\"Mean Accuracy:\", scores.mean())\n",
    "print(\"Standard Deviation:\", scores.std())"
   ]
  },
  {
   "cell_type": "code",
   "execution_count": 54,
   "metadata": {},
   "outputs": [
    {
     "name": "stdout",
     "output_type": "stream",
     "text": [
      "[0.98983107 0.98946769 0.98946143 0.98963055 0.98958043]\n",
      "Mean F1 Score: 0.9895942320178197\n",
      "Standard Deviation: 0.00013509334889779645\n"
     ]
    }
   ],
   "source": [
    "classifier = RandomForestClassifier()\n",
    "scorer = make_scorer(f1_score, average='binary')\n",
    "cv = StratifiedKFold(n_splits=5, shuffle=True, random_state=42)\n",
    "scores = cross_val_score(classifier, X_resampled, y_resampled, cv=cv, scoring=scorer)\n",
    "print(scores)\n",
    "print(\"Mean F1 Score:\", scores.mean())\n",
    "print(\"Standard Deviation:\", scores.std())"
   ]
  },
  {
   "cell_type": "code",
   "execution_count": 46,
   "metadata": {},
   "outputs": [],
   "source": [
    "from sklearn.model_selection import cross_val_score, StratifiedKFold\n",
    "from sklearn.ensemble import GradientBoostingClassifier"
   ]
  },
  {
   "cell_type": "code",
   "execution_count": 47,
   "metadata": {},
   "outputs": [
    {
     "name": "stdout",
     "output_type": "stream",
     "text": [
      "[0.80075611 0.80021877 0.79911851 0.80007804 0.80085846]\n",
      "Mean Accuracy: 0.8002059798114198\n",
      "Standard Deviation: 0.0006208871568635876\n"
     ]
    }
   ],
   "source": [
    "classifier = GradientBoostingClassifier()\n",
    "\n",
    "# Perform cross-validation\n",
    "cv = StratifiedKFold(n_splits=5, shuffle=True, random_state=42)\n",
    "scores = cross_val_score(classifier, X_resampled, y_resampled, cv=cv, scoring='accuracy')\n",
    "\n",
    "print(scores)\n",
    "print(\"Mean Accuracy:\", scores.mean())\n",
    "print(\"Standard Deviation:\", scores.std())"
   ]
  },
  {
   "cell_type": "code",
   "execution_count": 55,
   "metadata": {},
   "outputs": [
    {
     "name": "stdout",
     "output_type": "stream",
     "text": [
      "[0.799198   0.79871097 0.79754237 0.79883885 0.79963442]\n",
      "Mean F1 Score: 0.7987849231406376\n",
      "Standard Deviation: 0.0006992272662212153\n"
     ]
    }
   ],
   "source": [
    "classifier = GradientBoostingClassifier()\n",
    "\n",
    "scorer = make_scorer(f1_score, average='binary')\n",
    "cv = StratifiedKFold(n_splits=5, shuffle=True, random_state=42)\n",
    "scores = cross_val_score(classifier, X_resampled, y_resampled, cv=cv, scoring=scorer)\n",
    "\n",
    "print(scores)\n",
    "print(\"Mean F1 Score:\", scores.mean())\n",
    "print(\"Standard Deviation:\", scores.std())"
   ]
  },
  {
   "cell_type": "code",
   "execution_count": 48,
   "metadata": {},
   "outputs": [],
   "source": [
    "from sklearn.model_selection import cross_val_score, StratifiedKFold\n",
    "from sklearn.naive_bayes import GaussianNB"
   ]
  },
  {
   "cell_type": "code",
   "execution_count": 49,
   "metadata": {},
   "outputs": [
    {
     "name": "stdout",
     "output_type": "stream",
     "text": [
      "[0.52551719 0.5248711  0.52515257 0.5248775  0.52472397]\n",
      "Mean Accuracy: 0.5250284661540627\n",
      "Standard Deviation: 0.0002808984406961439\n"
     ]
    }
   ],
   "source": [
    "classifier = GaussianNB()\n",
    "\n",
    "# Perform cross-validation\n",
    "cv = StratifiedKFold(n_splits=5, shuffle=True, random_state=42)\n",
    "scores = cross_val_score(classifier, X_resampled, y_resampled, cv=cv, scoring='accuracy')\n",
    "\n",
    "# Print the mean accuracy and standard deviation of the accuracy scores\n",
    "print(scores)\n",
    "print(\"Mean Accuracy:\", scores.mean())\n",
    "print(\"Standard Deviation:\", scores.std())"
   ]
  },
  {
   "cell_type": "code",
   "execution_count": 56,
   "metadata": {},
   "outputs": [
    {
     "name": "stdout",
     "output_type": "stream",
     "text": [
      "[0.67323941 0.67293711 0.67294941 0.67288246 0.67276811]\n",
      "Mean F1 Score: 0.6729553015753785\n",
      "Standard Deviation: 0.00015583937779838989\n"
     ]
    }
   ],
   "source": [
    "classifier = GaussianNB()\n",
    "\n",
    "scorer = make_scorer(f1_score, average='binary')\n",
    "\n",
    "cv = StratifiedKFold(n_splits=5, shuffle=True, random_state=42)\n",
    "scores = cross_val_score(classifier, X_resampled, y_resampled, cv=cv, scoring=scorer)\n",
    "\n",
    "print(scores)\n",
    "print(\"Mean F1 Score:\", scores.mean())\n",
    "print(\"Standard Deviation:\", scores.std())"
   ]
  },
  {
   "cell_type": "code",
   "execution_count": 51,
   "metadata": {},
   "outputs": [],
   "source": [
    "from sklearn.linear_model import LogisticRegression"
   ]
  },
  {
   "cell_type": "code",
   "execution_count": 52,
   "metadata": {},
   "outputs": [
    {
     "name": "stdout",
     "output_type": "stream",
     "text": [
      "Mean Accuracy: 0.5\n",
      "Standard Deviation: 0.0\n"
     ]
    }
   ],
   "source": [
    "classifier = LogisticRegression()\n",
    "\n",
    "# Perform cross-validation\n",
    "cv = StratifiedKFold(n_splits=5, shuffle=True, random_state=42)\n",
    "scores = cross_val_score(classifier, X_resampled, y_resampled, cv=cv, scoring='accuracy')\n",
    "\n",
    "# Print the mean accuracy and standard deviation of the accuracy scores\n",
    "print(\"Mean Accuracy:\", scores.mean())\n",
    "print(\"Standard Deviation:\", scores.std())"
   ]
  },
  {
   "cell_type": "code",
   "execution_count": 57,
   "metadata": {},
   "outputs": [
    {
     "name": "stdout",
     "output_type": "stream",
     "text": [
      "[0.66666667 0.66666667 0.66666667 0.66666667 0.66666667]\n",
      "Mean F1 Score: 0.6666666666666666\n",
      "Standard Deviation: 0.0\n"
     ]
    }
   ],
   "source": [
    "classifier = LogisticRegression()\n",
    "\n",
    "scorer = make_scorer(f1_score, average='binary')\n",
    "cv = StratifiedKFold(n_splits=5, shuffle=True, random_state=42)\n",
    "scores = cross_val_score(classifier, X_resampled, y_resampled, cv=cv, scoring=scorer)\n",
    "print(scores)\n",
    "print(\"Mean F1 Score:\", scores.mean())\n",
    "print(\"Standard Deviation:\", scores.std())"
   ]
  },
  {
   "cell_type": "code",
   "execution_count": 58,
   "metadata": {},
   "outputs": [],
   "source": [
    "data_comp_1 = {\n",
    "    'Classifier': ['Decision Tree', 'KNN', 'Random Forest', 'Gradient Boosting', 'Naive Bayes', 'Logistic Regression'],\n",
    "    'Mean Accuracy': [0.9749, 0.5060, 0.9894, 0.8002, 0.5250, 0.5],\n",
    "    'Standard Deviation': [0.0004, 0.0003, 0.0002, 0.0006, 0.0003, 0.0],\n",
    "    'Mean F1 Score': [0.9755, 0.0289, 0.9896, 0.7988, 0.6730, 0.6667]\n",
    "}"
   ]
  },
  {
   "cell_type": "code",
   "execution_count": 59,
   "metadata": {},
   "outputs": [
    {
     "data": {
      "text/html": [
       "<div>\n",
       "<style scoped>\n",
       "    .dataframe tbody tr th:only-of-type {\n",
       "        vertical-align: middle;\n",
       "    }\n",
       "\n",
       "    .dataframe tbody tr th {\n",
       "        vertical-align: top;\n",
       "    }\n",
       "\n",
       "    .dataframe thead th {\n",
       "        text-align: right;\n",
       "    }\n",
       "</style>\n",
       "<table border=\"1\" class=\"dataframe\">\n",
       "  <thead>\n",
       "    <tr style=\"text-align: right;\">\n",
       "      <th></th>\n",
       "      <th>Mean Accuracy</th>\n",
       "      <th>Standard Deviation</th>\n",
       "      <th>Mean F1 Score</th>\n",
       "    </tr>\n",
       "    <tr>\n",
       "      <th>Classifier</th>\n",
       "      <th></th>\n",
       "      <th></th>\n",
       "      <th></th>\n",
       "    </tr>\n",
       "  </thead>\n",
       "  <tbody>\n",
       "    <tr>\n",
       "      <th>Decision Tree</th>\n",
       "      <td>0.9749</td>\n",
       "      <td>0.0004</td>\n",
       "      <td>0.9755</td>\n",
       "    </tr>\n",
       "    <tr>\n",
       "      <th>KNN</th>\n",
       "      <td>0.5060</td>\n",
       "      <td>0.0003</td>\n",
       "      <td>0.0289</td>\n",
       "    </tr>\n",
       "    <tr>\n",
       "      <th>Random Forest</th>\n",
       "      <td>0.9894</td>\n",
       "      <td>0.0002</td>\n",
       "      <td>0.9896</td>\n",
       "    </tr>\n",
       "    <tr>\n",
       "      <th>Gradient Boosting</th>\n",
       "      <td>0.8002</td>\n",
       "      <td>0.0006</td>\n",
       "      <td>0.7988</td>\n",
       "    </tr>\n",
       "    <tr>\n",
       "      <th>Naive Bayes</th>\n",
       "      <td>0.5250</td>\n",
       "      <td>0.0003</td>\n",
       "      <td>0.6730</td>\n",
       "    </tr>\n",
       "    <tr>\n",
       "      <th>Logistic Regression</th>\n",
       "      <td>0.5000</td>\n",
       "      <td>0.0000</td>\n",
       "      <td>0.6667</td>\n",
       "    </tr>\n",
       "  </tbody>\n",
       "</table>\n",
       "</div>"
      ],
      "text/plain": [
       "                     Mean Accuracy  Standard Deviation  Mean F1 Score\n",
       "Classifier                                                           \n",
       "Decision Tree               0.9749              0.0004         0.9755\n",
       "KNN                         0.5060              0.0003         0.0289\n",
       "Random Forest               0.9894              0.0002         0.9896\n",
       "Gradient Boosting           0.8002              0.0006         0.7988\n",
       "Naive Bayes                 0.5250              0.0003         0.6730\n",
       "Logistic Regression         0.5000              0.0000         0.6667"
      ]
     },
     "execution_count": 59,
     "metadata": {},
     "output_type": "execute_result"
    }
   ],
   "source": [
    "df_comp_1 = pd.DataFrame(data_comp_1)\n",
    "\n",
    "# Set the Classifier column as the index\n",
    "df_comp_1.set_index('Classifier', inplace=True)\n",
    "\n",
    "# Display the DataFrame\n",
    "df_comp_1"
   ]
  },
  {
   "cell_type": "code",
   "execution_count": 60,
   "metadata": {},
   "outputs": [
    {
     "name": "stdout",
     "output_type": "stream",
     "text": [
      "Mean Accuracy: 0.9310377032611339\n",
      "Standard Deviation: 0.000611384610489785\n"
     ]
    }
   ],
   "source": [
    "classifier = DecisionTreeClassifier()\n",
    "\n",
    "# Perform cross-validation\n",
    "cv = StratifiedKFold(n_splits=5, shuffle=True, random_state=42)\n",
    "scores = cross_val_score(classifier, X_smote, y_smote, cv=cv, scoring='accuracy')\n",
    "\n",
    "# Print the mean accuracy and standard deviation of the accuracy scores\n",
    "print(\"Mean Accuracy:\", scores.mean())\n",
    "print(\"Standard Deviation:\", scores.std())"
   ]
  },
  {
   "cell_type": "code",
   "execution_count": 61,
   "metadata": {},
   "outputs": [
    {
     "name": "stdout",
     "output_type": "stream",
     "text": [
      "Mean F1 Score: 0.9321044072304808\n",
      "Standard Deviation: 0.0006387466373088711\n"
     ]
    }
   ],
   "source": [
    "scorer = make_scorer(f1_score, average='binary')\n",
    "\n",
    "cv = StratifiedKFold(n_splits=5, shuffle=True, random_state=42)\n",
    "scores = cross_val_score(classifier, X_smote, y_smote, cv=cv, scoring=scorer)\n",
    "\n",
    "print(\"Mean F1 Score:\", scores.mean())\n",
    "print(\"Standard Deviation:\", scores.std())"
   ]
  },
  {
   "cell_type": "code",
   "execution_count": 62,
   "metadata": {},
   "outputs": [
    {
     "name": "stdout",
     "output_type": "stream",
     "text": [
      "[0.51410514 0.51683021 0.5154229  0.51679823 0.51551245]\n",
      "Mean Accuracy: 0.5157337870859614\n",
      "Standard Deviation: 0.0010132445313448392\n"
     ]
    }
   ],
   "source": [
    "classifier = KNeighborsClassifier()\n",
    "\n",
    "# Perform cross-validation\n",
    "cv = StratifiedKFold(n_splits=5, shuffle=True, random_state=42)\n",
    "scores = cross_val_score(classifier, X_smote, y_smote, cv=cv, scoring='accuracy')\n",
    "print(scores)\n",
    "# Print the mean accuracy and standard deviation of the accuracy scores\n",
    "print(\"Mean Accuracy:\", scores.mean())\n",
    "print(\"Standard Deviation:\", scores.std())"
   ]
  },
  {
   "cell_type": "code",
   "execution_count": 63,
   "metadata": {},
   "outputs": [
    {
     "name": "stdout",
     "output_type": "stream",
     "text": [
      "[0.06254782 0.07637751 0.06853897 0.07671153 0.06903164]\n",
      "Mean F1 Score: 0.07064149303835268\n",
      "Standard Deviation: 0.005334170962403558\n"
     ]
    }
   ],
   "source": [
    "classifier = KNeighborsClassifier()\n",
    "\n",
    "# Define F1 score as the scoring metric\n",
    "scorer = make_scorer(f1_score, average='binary')\n",
    "\n",
    "# Perform cross-validation\n",
    "cv = StratifiedKFold(n_splits=5, shuffle=True, random_state=42)\n",
    "scores = cross_val_score(classifier, X_smote, y_smote, cv=cv, scoring=scorer)\n",
    "\n",
    "# Print the mean F1 score and standard deviation of the F1 scores\n",
    "print(scores)\n",
    "print(\"Mean F1 Score:\", scores.mean())\n",
    "print(\"Standard Deviation:\", scores.std())"
   ]
  },
  {
   "cell_type": "code",
   "execution_count": 64,
   "metadata": {},
   "outputs": [
    {
     "name": "stdout",
     "output_type": "stream",
     "text": [
      "[0.95083351 0.94991236 0.95092947 0.95105101 0.95075036]\n",
      "Mean Accuracy: 0.9506953417857554\n",
      "Standard Deviation: 0.00040410112564115777\n"
     ]
    }
   ],
   "source": [
    "classifier = RandomForestClassifier()\n",
    "\n",
    "cv = StratifiedKFold(n_splits=5, shuffle=True, random_state=42)\n",
    "scores = cross_val_score(classifier, X_smote, y_smote, cv=cv, scoring='accuracy')\n",
    "\n",
    "print(scores)\n",
    "print(\"Mean Accuracy:\", scores.mean())\n",
    "print(\"Standard Deviation:\", scores.std())"
   ]
  },
  {
   "cell_type": "code",
   "execution_count": 65,
   "metadata": {},
   "outputs": [
    {
     "name": "stdout",
     "output_type": "stream",
     "text": [
      "[0.94971351 0.94928494 0.94991479 0.95039563 0.95104126]\n",
      "Mean F1 Score: 0.9500700237035365\n",
      "Standard Deviation: 0.0006028057905292954\n"
     ]
    }
   ],
   "source": [
    "classifier = RandomForestClassifier()\n",
    "scorer = make_scorer(f1_score, average='binary')\n",
    "cv = StratifiedKFold(n_splits=5, shuffle=True, random_state=42)\n",
    "scores = cross_val_score(classifier, X_smote, y_smote, cv=cv, scoring=scorer)\n",
    "print(scores)\n",
    "print(\"Mean F1 Score:\", scores.mean())\n",
    "print(\"Standard Deviation:\", scores.std())"
   ]
  },
  {
   "cell_type": "code",
   "execution_count": 66,
   "metadata": {},
   "outputs": [
    {
     "name": "stdout",
     "output_type": "stream",
     "text": [
      "[0.88849584 0.88905876 0.88820798 0.8914512  0.89079872]\n",
      "Mean Accuracy: 0.8896024973452912\n",
      "Standard Deviation: 0.0012894705714524602\n"
     ]
    }
   ],
   "source": [
    "classifier = GradientBoostingClassifier()\n",
    "\n",
    "# Perform cross-validation\n",
    "cv = StratifiedKFold(n_splits=5, shuffle=True, random_state=42)\n",
    "scores = cross_val_score(classifier, X_smote, y_smote, cv=cv, scoring='accuracy')\n",
    "\n",
    "print(scores)\n",
    "print(\"Mean Accuracy:\", scores.mean())\n",
    "print(\"Standard Deviation:\", scores.std())"
   ]
  },
  {
   "cell_type": "code",
   "execution_count": 67,
   "metadata": {},
   "outputs": [
    {
     "name": "stdout",
     "output_type": "stream",
     "text": [
      "[0.88627185 0.88685929 0.88591349 0.88950676 0.88880928]\n",
      "Mean F1 Score: 0.8874721326897982\n",
      "Standard Deviation: 0.0014264139245396953\n"
     ]
    }
   ],
   "source": [
    "classifier = GradientBoostingClassifier()\n",
    "\n",
    "scorer = make_scorer(f1_score, average='binary')\n",
    "cv = StratifiedKFold(n_splits=5, shuffle=True, random_state=42)\n",
    "scores = cross_val_score(classifier, X_smote, y_smote, cv=cv, scoring=scorer)\n",
    "\n",
    "print(scores)\n",
    "print(\"Mean F1 Score:\", scores.mean())\n",
    "print(\"Standard Deviation:\", scores.std())"
   ]
  },
  {
   "cell_type": "code",
   "execution_count": 68,
   "metadata": {},
   "outputs": [
    {
     "name": "stdout",
     "output_type": "stream",
     "text": [
      "[0.52462162 0.52505661 0.52520374 0.52471758 0.52524852]\n",
      "Mean Accuracy: 0.5249696147793713\n",
      "Standard Deviation: 0.0002548692518979055\n"
     ]
    }
   ],
   "source": [
    "classifier = GaussianNB()\n",
    "\n",
    "# Perform cross-validation\n",
    "cv = StratifiedKFold(n_splits=5, shuffle=True, random_state=42)\n",
    "scores = cross_val_score(classifier,  X_smote, y_smote, cv=cv, scoring='accuracy')\n",
    "\n",
    "# Print the mean accuracy and standard deviation of the accuracy scores\n",
    "print(scores)\n",
    "print(\"Mean Accuracy:\", scores.mean())\n",
    "print(\"Standard Deviation:\", scores.std())"
   ]
  },
  {
   "cell_type": "code",
   "execution_count": 69,
   "metadata": {},
   "outputs": [
    {
     "name": "stdout",
     "output_type": "stream",
     "text": [
      "[0.67257362 0.67291358 0.67304516 0.67287465 0.67310047]\n",
      "Mean F1 Score: 0.6729014962799671\n",
      "Standard Deviation: 0.00018362807974140792\n"
     ]
    }
   ],
   "source": [
    "classifier = GaussianNB()\n",
    "\n",
    "scorer = make_scorer(f1_score, average='binary')\n",
    "\n",
    "cv = StratifiedKFold(n_splits=5, shuffle=True, random_state=42)\n",
    "scores = cross_val_score(classifier, X_smote, y_smote, cv=cv, scoring=scorer)\n",
    "\n",
    "print(scores)\n",
    "print(\"Mean F1 Score:\", scores.mean())\n",
    "print(\"Standard Deviation:\", scores.std())"
   ]
  },
  {
   "cell_type": "code",
   "execution_count": 70,
   "metadata": {},
   "outputs": [
    {
     "name": "stdout",
     "output_type": "stream",
     "text": [
      "Mean Accuracy: 0.5\n",
      "Standard Deviation: 0.0\n"
     ]
    }
   ],
   "source": [
    "classifier = LogisticRegression()\n",
    "\n",
    "# Perform cross-validation\n",
    "cv = StratifiedKFold(n_splits=5, shuffle=True, random_state=42)\n",
    "scores = cross_val_score(classifier, X_smote, y_smote, cv=cv, scoring='accuracy')\n",
    "\n",
    "# Print the mean accuracy and standard deviation of the accuracy scores\n",
    "print(\"Mean Accuracy:\", scores.mean())\n",
    "print(\"Standard Deviation:\", scores.std())"
   ]
  },
  {
   "cell_type": "code",
   "execution_count": 71,
   "metadata": {},
   "outputs": [
    {
     "name": "stdout",
     "output_type": "stream",
     "text": [
      "[0.66666667 0.66666667 0.66666667 0.66666667 0.66666667]\n",
      "Mean F1 Score: 0.6666666666666666\n",
      "Standard Deviation: 0.0\n"
     ]
    }
   ],
   "source": [
    "classifier = LogisticRegression()\n",
    "\n",
    "scorer = make_scorer(f1_score, average='binary')\n",
    "cv = StratifiedKFold(n_splits=5, shuffle=True, random_state=42)\n",
    "scores = cross_val_score(classifier, X_smote, y_smote, cv=cv, scoring=scorer)\n",
    "print(scores)\n",
    "print(\"Mean F1 Score:\", scores.mean())\n",
    "print(\"Standard Deviation:\", scores.std())"
   ]
  },
  {
   "cell_type": "code",
   "execution_count": 84,
   "metadata": {},
   "outputs": [
    {
     "data": {
      "text/html": [
       "<div>\n",
       "<style scoped>\n",
       "    .dataframe tbody tr th:only-of-type {\n",
       "        vertical-align: middle;\n",
       "    }\n",
       "\n",
       "    .dataframe tbody tr th {\n",
       "        vertical-align: top;\n",
       "    }\n",
       "\n",
       "    .dataframe thead th {\n",
       "        text-align: right;\n",
       "    }\n",
       "</style>\n",
       "<table border=\"1\" class=\"dataframe\">\n",
       "  <thead>\n",
       "    <tr style=\"text-align: right;\">\n",
       "      <th></th>\n",
       "      <th>Mean Accuracy</th>\n",
       "      <th>Standard Deviation</th>\n",
       "      <th>Mean F1 Score</th>\n",
       "    </tr>\n",
       "    <tr>\n",
       "      <th>Classifier</th>\n",
       "      <th></th>\n",
       "      <th></th>\n",
       "      <th></th>\n",
       "    </tr>\n",
       "  </thead>\n",
       "  <tbody>\n",
       "    <tr>\n",
       "      <th>Decision Tree</th>\n",
       "      <td>0.9310</td>\n",
       "      <td>0.0006</td>\n",
       "      <td>0.9321</td>\n",
       "    </tr>\n",
       "    <tr>\n",
       "      <th>KNN</th>\n",
       "      <td>0.5141</td>\n",
       "      <td>0.0010</td>\n",
       "      <td>0.0053</td>\n",
       "    </tr>\n",
       "    <tr>\n",
       "      <th>Random Forest</th>\n",
       "      <td>0.9507</td>\n",
       "      <td>0.0004</td>\n",
       "      <td>0.9500</td>\n",
       "    </tr>\n",
       "    <tr>\n",
       "      <th>Gradient Boosting</th>\n",
       "      <td>0.8896</td>\n",
       "      <td>0.0012</td>\n",
       "      <td>0.8874</td>\n",
       "    </tr>\n",
       "    <tr>\n",
       "      <th>Naive Bayes</th>\n",
       "      <td>0.5249</td>\n",
       "      <td>0.0002</td>\n",
       "      <td>0.6729</td>\n",
       "    </tr>\n",
       "    <tr>\n",
       "      <th>Logistic Regression</th>\n",
       "      <td>0.5000</td>\n",
       "      <td>0.0000</td>\n",
       "      <td>0.6666</td>\n",
       "    </tr>\n",
       "  </tbody>\n",
       "</table>\n",
       "</div>"
      ],
      "text/plain": [
       "                     Mean Accuracy  Standard Deviation  Mean F1 Score\n",
       "Classifier                                                           \n",
       "Decision Tree               0.9310              0.0006         0.9321\n",
       "KNN                         0.5141              0.0010         0.0053\n",
       "Random Forest               0.9507              0.0004         0.9500\n",
       "Gradient Boosting           0.8896              0.0012         0.8874\n",
       "Naive Bayes                 0.5249              0.0002         0.6729\n",
       "Logistic Regression         0.5000              0.0000         0.6666"
      ]
     },
     "execution_count": 84,
     "metadata": {},
     "output_type": "execute_result"
    }
   ],
   "source": [
    "data_comp_2 = {\n",
    "    'Classifier': ['Decision Tree', 'KNN', 'Random Forest', 'Gradient Boosting', 'Naive Bayes', 'Logistic Regression'],\n",
    "    'Mean Accuracy': [0.9310, 0.5141, 0.9507, 0.8896, 0.5249, 0.5],\n",
    "    'Standard Deviation': [0.0006, 0.0010, 0.0004, 0.0012, 0.0002, 0.0],\n",
    "    'Mean F1 Score': [0.9321, 0.0053, 0.9500, 0.8874, 0.6729, 0.6666]\n",
    "}\n",
    "\n",
    "df_comp_2 = pd.DataFrame(data_comp_2)\n",
    "\n",
    "# Set the Classifier column as the index\n",
    "df_comp_2.set_index('Classifier', inplace=True)\n",
    "\n",
    "# Display the DataFrame\n",
    "df_comp_2\n"
   ]
  },
  {
   "cell_type": "code",
   "execution_count": 72,
   "metadata": {},
   "outputs": [
    {
     "name": "stdout",
     "output_type": "stream",
     "text": [
      "[0.92910691 0.93030947 0.93059047 0.93051371 0.93123653]\n",
      "Mean Accuracy: 0.9303514172741802\n",
      "Standard Deviation: 0.0006953356274406455\n"
     ]
    }
   ],
   "source": [
    "classifier = DecisionTreeClassifier()\n",
    "\n",
    "# Perform cross-validation\n",
    "cv = StratifiedKFold(n_splits=5, shuffle=True, random_state=42)\n",
    "scores = cross_val_score(classifier, X_adasyn, y_adasyn, cv=cv, scoring='accuracy')\n",
    "\n",
    "# Print the mean accuracy and standard deviation of the accuracy scores\n",
    "print(scores)\n",
    "print(\"Mean Accuracy:\", scores.mean())\n",
    "print(\"Standard Deviation:\", scores.std())"
   ]
  },
  {
   "cell_type": "code",
   "execution_count": 73,
   "metadata": {},
   "outputs": [
    {
     "name": "stdout",
     "output_type": "stream",
     "text": [
      "Mean F1 Score: 0.9318000026833279\n",
      "Standard Deviation: 0.0004793201148250641\n"
     ]
    }
   ],
   "source": [
    "scorer = make_scorer(f1_score, average='binary')\n",
    "\n",
    "cv = StratifiedKFold(n_splits=5, shuffle=True, random_state=42)\n",
    "scores = cross_val_score(classifier, X_adasyn, y_adasyn, cv=cv, scoring=scorer)\n",
    "\n",
    "print(\"Mean F1 Score:\", scores.mean())\n",
    "print(\"Standard Deviation:\", scores.std())"
   ]
  },
  {
   "cell_type": "markdown",
   "metadata": {},
   "source": []
  },
  {
   "cell_type": "code",
   "execution_count": 74,
   "metadata": {},
   "outputs": [
    {
     "name": "stdout",
     "output_type": "stream",
     "text": [
      "[0.51415559 0.51532616 0.51414609 0.5148689  0.51429321]\n",
      "Mean Accuracy: 0.5145579890595707\n",
      "Standard Deviation: 0.0004665732602068325\n"
     ]
    }
   ],
   "source": [
    "classifier = KNeighborsClassifier()\n",
    "\n",
    "# Perform cross-validation\n",
    "cv = StratifiedKFold(n_splits=5, shuffle=True, random_state=42)\n",
    "scores = cross_val_score(classifier, X_adasyn, y_adasyn, cv=cv, scoring='accuracy')\n",
    "print(scores)\n",
    "# Print the mean accuracy and standard deviation of the accuracy scores\n",
    "print(\"Mean Accuracy:\", scores.mean())\n",
    "print(\"Standard Deviation:\", scores.std())"
   ]
  },
  {
   "cell_type": "code",
   "execution_count": 75,
   "metadata": {},
   "outputs": [
    {
     "name": "stdout",
     "output_type": "stream",
     "text": [
      "[0.06591731 0.06971234 0.06377498 0.06685861 0.06598111]\n",
      "Mean F1 Score: 0.06644886610457272\n",
      "Standard Deviation: 0.0019219344883992344\n"
     ]
    }
   ],
   "source": [
    "classifier = KNeighborsClassifier()\n",
    "\n",
    "# Define F1 score as the scoring metric\n",
    "scorer = make_scorer(f1_score, average='binary')\n",
    "\n",
    "# Perform cross-validation\n",
    "cv = StratifiedKFold(n_splits=5, shuffle=True, random_state=42)\n",
    "scores = cross_val_score(classifier, X_adasyn, y_adasyn, cv=cv, scoring=scorer)\n",
    "\n",
    "# Print the mean F1 score and standard deviation of the F1 scores\n",
    "print(scores)\n",
    "print(\"Mean F1 Score:\", scores.mean())\n",
    "print(\"Standard Deviation:\", scores.std())"
   ]
  },
  {
   "cell_type": "code",
   "execution_count": 76,
   "metadata": {},
   "outputs": [
    {
     "name": "stdout",
     "output_type": "stream",
     "text": [
      "[0.95079765 0.94942239 0.949921   0.95041994 0.95109158]\n",
      "Mean Accuracy: 0.9503305121502924\n",
      "Standard Deviation: 0.0005996371659638305\n"
     ]
    }
   ],
   "source": [
    "classifier = RandomForestClassifier()\n",
    "\n",
    "cv = StratifiedKFold(n_splits=5, shuffle=True, random_state=42)\n",
    "scores = cross_val_score(classifier, X_adasyn, y_adasyn, cv=cv, scoring='accuracy')\n",
    "\n",
    "print(scores)\n",
    "print(\"Mean Accuracy:\", scores.mean())\n",
    "print(\"Standard Deviation:\", scores.std())"
   ]
  },
  {
   "cell_type": "code",
   "execution_count": 77,
   "metadata": {},
   "outputs": [
    {
     "name": "stdout",
     "output_type": "stream",
     "text": [
      "[0.95064205 0.94890993 0.94970017 0.94979435 0.95032121]\n",
      "Mean F1 Score: 0.9498735421724283\n",
      "Standard Deviation: 0.000592602738555801\n"
     ]
    }
   ],
   "source": [
    "classifier = RandomForestClassifier()\n",
    "scorer = make_scorer(f1_score, average='binary')\n",
    "cv = StratifiedKFold(n_splits=5, shuffle=True, random_state=42)\n",
    "scores = cross_val_score(classifier, X_adasyn, y_adasyn, cv=cv, scoring=scorer)\n",
    "print(scores)\n",
    "print(\"Mean F1 Score:\", scores.mean())\n",
    "print(\"Standard Deviation:\", scores.std())"
   ]
  },
  {
   "cell_type": "code",
   "execution_count": 78,
   "metadata": {},
   "outputs": [
    {
     "name": "stdout",
     "output_type": "stream",
     "text": [
      "[0.89001113 0.88917318 0.891181   0.88842407 0.89084198]\n",
      "Mean Accuracy: 0.889926273807436\n",
      "Standard Deviation: 0.0010240942323905637\n"
     ]
    }
   ],
   "source": [
    "classifier = GradientBoostingClassifier()\n",
    "\n",
    "# Perform cross-validation\n",
    "cv = StratifiedKFold(n_splits=5, shuffle=True, random_state=42)\n",
    "scores = cross_val_score(classifier, X_adasyn, y_adasyn, cv=cv, scoring='accuracy')\n",
    "\n",
    "print(scores)\n",
    "print(\"Mean Accuracy:\", scores.mean())\n",
    "print(\"Standard Deviation:\", scores.std())"
   ]
  },
  {
   "cell_type": "code",
   "execution_count": 79,
   "metadata": {},
   "outputs": [
    {
     "name": "stdout",
     "output_type": "stream",
     "text": [
      "[0.88751218 0.88702842 0.88892951 0.88606421 0.88877592]\n",
      "Mean F1 Score: 0.8876620475627952\n",
      "Standard Deviation: 0.0010792785099378935\n"
     ]
    }
   ],
   "source": [
    "classifier = GradientBoostingClassifier()\n",
    "\n",
    "scorer = make_scorer(f1_score, average='binary')\n",
    "cv = StratifiedKFold(n_splits=5, shuffle=True, random_state=42)\n",
    "scores = cross_val_score(classifier, X_adasyn, y_adasyn, cv=cv, scoring=scorer)\n",
    "\n",
    "print(scores)\n",
    "print(\"Mean F1 Score:\", scores.mean())\n",
    "print(\"Standard Deviation:\", scores.std())"
   ]
  },
  {
   "cell_type": "code",
   "execution_count": 80,
   "metadata": {},
   "outputs": [
    {
     "name": "stdout",
     "output_type": "stream",
     "text": [
      "[0.52517047 0.52528561 0.52491157 0.52476445 0.52577511]\n",
      "Mean Accuracy: 0.5251814390358084\n",
      "Standard Deviation: 0.00034932197395009005\n"
     ]
    }
   ],
   "source": [
    "classifier = GaussianNB()\n",
    "\n",
    "# Perform cross-validation\n",
    "cv = StratifiedKFold(n_splits=5, shuffle=True, random_state=42)\n",
    "scores = cross_val_score(classifier, X_adasyn, y_adasyn, cv=cv, scoring='accuracy')\n",
    "\n",
    "# Print the mean accuracy and standard deviation of the accuracy scores\n",
    "print(scores)\n",
    "print(\"Mean Accuracy:\", scores.mean())\n",
    "print(\"Standard Deviation:\", scores.std())"
   ]
  },
  {
   "cell_type": "code",
   "execution_count": 81,
   "metadata": {},
   "outputs": [
    {
     "name": "stdout",
     "output_type": "stream",
     "text": [
      "[0.67307608 0.67312368 0.67277886 0.67291818 0.67358216]\n",
      "Mean F1 Score: 0.6730957900702768\n",
      "Standard Deviation: 0.000271922192485057\n"
     ]
    }
   ],
   "source": [
    "classifier = GaussianNB()\n",
    "\n",
    "scorer = make_scorer(f1_score, average='binary')\n",
    "\n",
    "cv = StratifiedKFold(n_splits=5, shuffle=True, random_state=42)\n",
    "scores = cross_val_score(classifier, X_adasyn, y_adasyn, cv=cv, scoring=scorer)\n",
    "\n",
    "print(scores)\n",
    "print(\"Mean F1 Score:\", scores.mean())\n",
    "print(\"Standard Deviation:\", scores.std())"
   ]
  },
  {
   "cell_type": "code",
   "execution_count": 82,
   "metadata": {},
   "outputs": [
    {
     "name": "stdout",
     "output_type": "stream",
     "text": [
      "Mean Accuracy: 0.5000236673623963\n",
      "Standard Deviation: 1.5667609501656428e-06\n"
     ]
    }
   ],
   "source": [
    "classifier = LogisticRegression()\n",
    "\n",
    "# Perform cross-validation\n",
    "cv = StratifiedKFold(n_splits=5, shuffle=True, random_state=42)\n",
    "scores = cross_val_score(classifier, X_adasyn, y_adasyn, cv=cv, scoring='accuracy')\n",
    "\n",
    "# Print the mean accuracy and standard deviation of the accuracy scores\n",
    "print(\"Mean Accuracy:\", scores.mean())\n",
    "print(\"Standard Deviation:\", scores.std())"
   ]
  },
  {
   "cell_type": "code",
   "execution_count": 83,
   "metadata": {},
   "outputs": [
    {
     "name": "stdout",
     "output_type": "stream",
     "text": [
      "[0.66668941 0.66668941 0.66668657 0.66668657 0.66668657]\n",
      "Mean F1 Score: 0.6666877039887433\n",
      "Standard Deviation: 1.3926318593328573e-06\n"
     ]
    }
   ],
   "source": [
    "classifier = LogisticRegression()\n",
    "\n",
    "scorer = make_scorer(f1_score, average='binary')\n",
    "cv = StratifiedKFold(n_splits=5, shuffle=True, random_state=42)\n",
    "scores = cross_val_score(classifier, X_adasyn, y_adasyn, cv=cv, scoring=scorer)\n",
    "print(scores)\n",
    "print(\"Mean F1 Score:\", scores.mean())\n",
    "print(\"Standard Deviation:\", scores.std())"
   ]
  },
  {
   "cell_type": "code",
   "execution_count": 85,
   "metadata": {},
   "outputs": [
    {
     "data": {
      "text/html": [
       "<div>\n",
       "<style scoped>\n",
       "    .dataframe tbody tr th:only-of-type {\n",
       "        vertical-align: middle;\n",
       "    }\n",
       "\n",
       "    .dataframe tbody tr th {\n",
       "        vertical-align: top;\n",
       "    }\n",
       "\n",
       "    .dataframe thead th {\n",
       "        text-align: right;\n",
       "    }\n",
       "</style>\n",
       "<table border=\"1\" class=\"dataframe\">\n",
       "  <thead>\n",
       "    <tr style=\"text-align: right;\">\n",
       "      <th></th>\n",
       "      <th>Mean Accuracy</th>\n",
       "      <th>Standard Deviation</th>\n",
       "      <th>Mean F1 Score</th>\n",
       "    </tr>\n",
       "    <tr>\n",
       "      <th>Classifier</th>\n",
       "      <th></th>\n",
       "      <th></th>\n",
       "      <th></th>\n",
       "    </tr>\n",
       "  </thead>\n",
       "  <tbody>\n",
       "    <tr>\n",
       "      <th>Decision Tree</th>\n",
       "      <td>0.9303</td>\n",
       "      <td>0.0006</td>\n",
       "      <td>0.9318</td>\n",
       "    </tr>\n",
       "    <tr>\n",
       "      <th>KNN</th>\n",
       "      <td>0.5145</td>\n",
       "      <td>0.0004</td>\n",
       "      <td>0.0664</td>\n",
       "    </tr>\n",
       "    <tr>\n",
       "      <th>Random Forest</th>\n",
       "      <td>0.9503</td>\n",
       "      <td>0.0006</td>\n",
       "      <td>0.9498</td>\n",
       "    </tr>\n",
       "    <tr>\n",
       "      <th>Gradient Boosting</th>\n",
       "      <td>0.8899</td>\n",
       "      <td>0.0010</td>\n",
       "      <td>0.8876</td>\n",
       "    </tr>\n",
       "    <tr>\n",
       "      <th>Naive Bayes</th>\n",
       "      <td>0.5251</td>\n",
       "      <td>0.0003</td>\n",
       "      <td>0.6730</td>\n",
       "    </tr>\n",
       "    <tr>\n",
       "      <th>Logistic Regression</th>\n",
       "      <td>0.5000</td>\n",
       "      <td>0.0038</td>\n",
       "      <td>0.6666</td>\n",
       "    </tr>\n",
       "  </tbody>\n",
       "</table>\n",
       "</div>"
      ],
      "text/plain": [
       "                     Mean Accuracy  Standard Deviation  Mean F1 Score\n",
       "Classifier                                                           \n",
       "Decision Tree               0.9303              0.0006         0.9318\n",
       "KNN                         0.5145              0.0004         0.0664\n",
       "Random Forest               0.9503              0.0006         0.9498\n",
       "Gradient Boosting           0.8899              0.0010         0.8876\n",
       "Naive Bayes                 0.5251              0.0003         0.6730\n",
       "Logistic Regression         0.5000              0.0038         0.6666"
      ]
     },
     "execution_count": 85,
     "metadata": {},
     "output_type": "execute_result"
    }
   ],
   "source": [
    "data_comp_3 = {\n",
    "    'Classifier': ['Decision Tree', 'KNN', 'Random Forest', 'Gradient Boosting', 'Naive Bayes', 'Logistic Regression'],\n",
    "    'Mean Accuracy':      [0.9303, 0.5145, 0.9503, 0.8899, 0.5251, 0.5],\n",
    "    'Standard Deviation': [0.0006, 0.0004, 0.0006, 0.0010, 0.0003, 0.0038],\n",
    "    'Mean F1 Score':      [0.9318, 0.0664, 0.9498, 0.8876, 0.6730, 0.6666]\n",
    "}\n",
    "\n",
    "df_comp_3 = pd.DataFrame(data_comp_3)\n",
    "\n",
    "# Set the Classifier column as the index\n",
    "df_comp_3.set_index('Classifier', inplace=True)\n",
    "\n",
    "# Display the DataFrame\n",
    "df_comp_3"
   ]
  }
 ],
 "metadata": {
  "kernelspec": {
   "display_name": "Python 3 (ipykernel)",
   "language": "python",
   "name": "python3"
  },
  "language_info": {
   "codemirror_mode": {
    "name": "ipython",
    "version": 3
   },
   "file_extension": ".py",
   "mimetype": "text/x-python",
   "name": "python",
   "nbconvert_exporter": "python",
   "pygments_lexer": "ipython3",
   "version": "3.11.7"
  }
 },
 "nbformat": 4,
 "nbformat_minor": 4
}
